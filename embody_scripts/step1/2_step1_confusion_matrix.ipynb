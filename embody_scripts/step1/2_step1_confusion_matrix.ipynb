{
 "cells": [
  {
   "cell_type": "markdown",
   "metadata": {},
   "source": [
    "### Compiles and Outputs Step 1 Confusion Matrix\n",
    "\n",
    "1. Confusion matrix for each subject (output: confusion_matrix.csv)\n",
    "2. Group average confusion matrix (output: confusion_matrix_all.csv)\n",
    "3. Average confusion matrix by group - Meditators vs. Controls (output: confusion_matrix_byGroup.csv)"
   ]
  },
  {
   "cell_type": "code",
   "execution_count": null,
   "metadata": {
    "collapsed": true
   },
   "outputs": [],
   "source": [
    "import os\n",
    "import numpy as np\n",
    "import pandas as pd\n",
    "import scipy.io as sio\n",
    "import glob\n",
    "import fnmatch"
   ]
  },
  {
   "cell_type": "code",
   "execution_count": null,
   "metadata": {
    "collapsed": true
   },
   "outputs": [],
   "source": [
    "root_dir = '/Path/to/EMBODY/files'"
   ]
  },
  {
   "cell_type": "code",
   "execution_count": null,
   "metadata": {
    "collapsed": true
   },
   "outputs": [],
   "source": [
    "# define analyses, subject IDs and groups\n",
    "ml_brain = ['phase1_demo']\n",
    "subjects = [124, 132]\n",
    "\n",
    "# Enter subject numbers\n",
    "Meditators = [124]\n",
    "Controls = [132]"
   ]
  },
  {
   "cell_type": "code",
   "execution_count": null,
   "metadata": {
    "collapsed": true
   },
   "outputs": [],
   "source": [
    "def condition_decisions(condition_number):\n",
    "    \n",
    "    # Compile decision counts\n",
    "    decision_count=[0, 0, 0, 0, 0]\n",
    "    \n",
    "    for index in range(len(condition_list)):\n",
    "        current_value = condition_list[index]\n",
    "        decision_value = decision_list[index]\n",
    "        \n",
    "        # sums decisions from breath condition\n",
    "        if current_value == condition_number:\n",
    "            decision_count[decision_value - 1] += 1\n",
    "    \n",
    "    return decision_count"
   ]
  },
  {
   "cell_type": "code",
   "execution_count": null,
   "metadata": {
    "collapsed": true
   },
   "outputs": [],
   "source": [
    "# 1. Compiles step 1 confusion matrix for each subj\n",
    "# Make new directories before running\n",
    "# 5x5 matrix of classifier decisions: 1) for each subj, 2) average of subjs, 3) average of groups\n",
    "# 3x3 matrix of categories of most interest: Breath, Stop, Self\n",
    "# Calculation: for each instructed condition, # of decisions in each category (5x5)\n",
    "\n",
    "for analysis in ml_brain:\n",
    "    \n",
    "    for subj in subjects:\n",
    "        \n",
    "        os.chdir('%s/%s/results/step1/%d/' % (root_dir, analysis, subj))\n",
    "        \n",
    "        data = sio.loadmat('pretty_results_step1.mat')['prettyResult'][0][0]\n",
    "        condition = data[4]\n",
    "        decision = data[6]\n",
    "        condition_list = list(condition[0])\n",
    "        decision_list = list(decision[0])\n",
    "\n",
    "        breath = condition_decisions(1)\n",
    "        feet = condition_decisions(2)\n",
    "        stop = condition_decisions(3)\n",
    "        self = condition_decisions(4)\n",
    "        sounds = condition_decisions(5)\n",
    "\n",
    "        confusion_matrix = np.stack((breath, feet, stop, self, sounds))\n",
    "\n",
    "        index_list = ['breath_cond', 'feet_cond', 'stop_cond', 'self_cond', 'sounds_cond']\n",
    "        columns_list = ['breath_dec', 'feet_dec', 'stop_dec', 'self_dec', 'sounds_dec']\n",
    "\n",
    "        confusion_matrix_df = pd.DataFrame(confusion_matrix, index = index_list, columns = columns_list) # convert into a pandas dataframe\n",
    "        confusion_matrix_df.to_csv('confusion_matrix.csv') # writes out data to current dir"
   ]
  },
  {
   "cell_type": "code",
   "execution_count": null,
   "metadata": {},
   "outputs": [],
   "source": [
    "## 2. Compile group average confusion matrix\n",
    "\n",
    "for analysis in ml_brain:\n",
    "    \n",
    "    appended_data = []\n",
    "    for infile in glob.glob('%s/%s/results/step1/*/confusion_matrix.csv' % (root_dir, analysis)):\n",
    "        data = pd.read_csv(infile, sep=',', index_col=0)\n",
    "        # store DataFrame in list\n",
    "        appended_data.append(data)\n",
    "    \n",
    "    # Concatenate confusion matrices, compute mean\n",
    "    appended_data = pd.concat(appended_data, axis=0) # concat by rows\n",
    "    confusion_matrix_mean = appended_data.groupby(level=0).mean() # compute mean by rows\n",
    "    df = pd.DataFrame(confusion_matrix_mean)\n",
    "    confusion_matrix_mean_df = df.reindex(['breath_cond', 'feet_cond', 'stop_cond', 'self_cond', 'sounds_cond'])\n",
    "    \n",
    "    print(confusion_matrix_mean_df)"
   ]
  },
  {
   "cell_type": "code",
   "execution_count": null,
   "metadata": {
    "collapsed": true
   },
   "outputs": [],
   "source": [
    "## 3. Compute confusion matrix by group (Meditators vs. Controls)\n",
    "\n",
    "for analysis in ml_brain:\n",
    "    # Meditators\n",
    "    meditator_data = []\n",
    "    for subj in Meditators:\n",
    "        \n",
    "        os.chdir('%s/%s/results/step1/%d/' % (root_dir, analysis, subj))\n",
    "        infile = 'confusion_matrix.csv'\n",
    "        data = pd.read_csv(infile, sep=',', index_col=0)\n",
    "        # store DataFrame in list\n",
    "        meditator_data.append(data)\n",
    "\n",
    "    # Concatenate confusion matrices\n",
    "    meditator_data = pd.concat(meditator_data, axis=0) # concat by rows, 80 rows x 5 columns\n",
    "    meditator_mean = meditator_data.groupby(level=0).mean() # mean by rows, stop 5th instead of 3rd row\n",
    "    df = pd.DataFrame(meditator_mean) # convert into a pandas dataframe\n",
    "    meditator_mean_df = df.reindex(['breath_cond', 'feet_cond', 'stop_cond', 'self_cond', 'sounds_cond'])\n",
    "    #print meditator_mean_df\n",
    "    \n",
    "    # write DataFrame csv\n",
    "    os.chdir('%s/%s/results/step1_compile/' % (root_dir, analysis))\n",
    "    meditator_mean_df.to_csv('step1_2_confusion_matrix_meditator_mean.csv')\n",
    "    \n",
    "    # Controls\n",
    "    control_data = []\n",
    "    for subj in Controls:\n",
    "        os.chdir('%s/%s/results/step1/%d/' % (root_dir, analysis, subj))\n",
    "        infile = 'confusion_matrix.csv'\n",
    "        data = pd.read_csv(infile, sep=',', index_col=0)\n",
    "        # store DataFrame in list\n",
    "        control_data.append(data)\n",
    "\n",
    "    # Concatenate confusion matrices\n",
    "    control_data = pd.concat(control_data, axis=0) # concat by rows, 80 rows x 5 columns\n",
    "    control_mean = control_data.groupby(level=0).mean() # mean by rows, stop 5th instead of 3rd row\n",
    "    df = pd.DataFrame(control_mean) # convert into a pandas dataframe\n",
    "    control_mean_df = df.reindex(['breath_cond', 'feet_cond', 'stop_cond', 'self_cond', 'sounds_cond'])\n",
    "    #print control_mean_df\n",
    "    \n",
    "    # write DataFrame csv\n",
    "    os.chdir('%s/%s/results/step1_compile/' % (root_dir, analysis))\n",
    "    control_mean_df.to_csv('step1_2_confusion_matrix_control_mean.csv')"
   ]
  },
  {
   "cell_type": "code",
   "execution_count": null,
   "metadata": {
    "collapsed": true
   },
   "outputs": [],
   "source": []
  }
 ],
 "metadata": {
  "kernelspec": {
   "display_name": "Python 2",
   "language": "python",
   "name": "python2"
  },
  "language_info": {
   "codemirror_mode": {
    "name": "ipython",
    "version": 2
   },
   "file_extension": ".py",
   "mimetype": "text/x-python",
   "name": "python",
   "nbconvert_exporter": "python",
   "pygments_lexer": "ipython2",
   "version": "2.7.10"
  }
 },
 "nbformat": 4,
 "nbformat_minor": 2
}
