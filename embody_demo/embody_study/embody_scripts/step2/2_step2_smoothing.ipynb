{
 "cells": [
  {
   "cell_type": "markdown",
   "metadata": {},
   "source": [
    "### Script 2 - Smoothing algorithm (before event cleaning)"
   ]
  },
  {
   "cell_type": "markdown",
   "metadata": {},
   "source": [
    "<b>Function</b>: smoothing isolated classifications. "
   ]
  },
  {
   "cell_type": "markdown",
   "metadata": {},
   "source": [
    "<b>Criterion</b>: 3 before/after (1112111) (requires event before and after)"
   ]
  },
  {
   "cell_type": "markdown",
   "metadata": {},
   "source": [
    "<u>Output files</u>:\n",
    "<br>\n",
    "Smoothed file (600 TRs; step2_smooth.txt file)\n",
    "<br>\n",
    "Index file that shows which TR’s smoothed (00000010000010000) (in notebook)\n",
    "<br>\n",
    "% TR’s smoothed (single digits?) = sum(indexfile)/length (in notebook) – subj loop, average across subjects"
   ]
  },
  {
   "cell_type": "code",
   "execution_count": 1,
   "metadata": {
    "collapsed": true
   },
   "outputs": [],
   "source": [
    "import os"
   ]
  },
  {
   "cell_type": "code",
   "execution_count": null,
   "metadata": {
    "collapsed": true
   },
   "outputs": [],
   "source": [
    "# set root directory\n",
    "root_dir = \"/Path/To/EMBODY_Study/Files\""
   ]
  },
  {
   "cell_type": "code",
   "execution_count": 3,
   "metadata": {
    "collapsed": true
   },
   "outputs": [],
   "source": [
    "# set analysis name\n",
    "analysis = \"phase1_demo\""
   ]
  },
  {
   "cell_type": "code",
   "execution_count": 4,
   "metadata": {
    "collapsed": true
   },
   "outputs": [],
   "source": [
    "# define subjects\n",
    "subjects = [124]"
   ]
  },
  {
   "cell_type": "code",
   "execution_count": 5,
   "metadata": {
    "collapsed": true
   },
   "outputs": [],
   "source": [
    "def imports_subj_meditation(subj):\n",
    "\n",
    "    # change directory to subject file\n",
    "    os.chdir(\"%s/%s/results/step2/%d/\"\n",
    "             % (root_dir, analysis, subj))\n",
    "\n",
    "    # read in subject's text file\n",
    "    filename = \"step2_3cat.txt\"\n",
    "\n",
    "    return filename"
   ]
  },
  {
   "cell_type": "code",
   "execution_count": 6,
   "metadata": {
    "collapsed": true
   },
   "outputs": [],
   "source": [
    "def read_txt_file(filename):\n",
    "    \"\"\"Read meditation file, returns array of digits\n",
    "        filename: input is string (e.g., \"step2_3cat.txt\")\n",
    "    \"\"\"\n",
    "\n",
    "    with open(filename, 'rw') as f:\n",
    "        content = f.readlines()\n",
    "        content = list(content[0])\n",
    "\n",
    "        # filter items in content by whether or not they are a digit. if digit, convert to integer.\n",
    "        content = [int(x) for x in content if x.isdigit()]\n",
    "\n",
    "        return content"
   ]
  },
  {
   "cell_type": "code",
   "execution_count": 7,
   "metadata": {
    "collapsed": true
   },
   "outputs": [],
   "source": [
    "def write_txt_file(filename, to_write):\n",
    "\n",
    "    with open(filename, 'w') as f:\n",
    "\n",
    "        f.write(\",\".join(to_write))"
   ]
  },
  {
   "cell_type": "code",
   "execution_count": 8,
   "metadata": {
    "collapsed": true
   },
   "outputs": [],
   "source": [
    "# Count the number of events per condition & smooth noise within events\n",
    "def event_smoothing(meditation): \n",
    "    \"\"\"\n",
    "    Smooth over noise within events by changing noise (an event <= 3TR surrounded within an event that is at least \n",
    "    3TR long before and after the 'noise' event.\n",
    "    \n",
    "    Outputs a new array of smoothed events.\n",
    "    \"\"\"\n",
    "    \n",
    "    # smoothing index list\n",
    "    smoothing_indices = [0] * 600\n",
    "    \n",
    "    # create new array for smoothed events\n",
    "    smooth_event = []\n",
    "            \n",
    "    # Iterate through meditation array\n",
    "    for index in range(len(meditation) - 3):\n",
    "        \n",
    "        current_value = meditation[index]\n",
    "        \n",
    "        next_1 = meditation[index + 1]\n",
    "        next_2 = meditation[index + 2]\n",
    "        next_3 = meditation[index + 3]\n",
    "        \n",
    "        prev_1 = meditation[index - 1]\n",
    "        prev_2 = meditation[index - 2]\n",
    "        prev_3 = meditation[index - 3]\n",
    "        \n",
    "        # check for values to be smoothed in first three indicies\n",
    "        if index == 2:\n",
    "            if current_value != next_1:\n",
    "                if (next_1 == next_2 and\n",
    "                    next_2 == next_3):\n",
    "                                        \n",
    "                    smooth_event.append(next_1)\n",
    "                    # note that index was smoothed in smoothing_indices vector\n",
    "                    smoothing_indices[index] = 1\n",
    "    \n",
    "            else:\n",
    "                smooth_event.append(current_value)\n",
    "        \n",
    "        # check for values to be smoothed in first three indicies \n",
    "        elif index == 596:\n",
    "\n",
    "            if ((prev_1 == prev_2) and (prev_2 == prev_3)) and \\\n",
    "                ((next_1 == next_2) and (next_2 == next_3)) and \\\n",
    "                (current_value != next_1) and (next_1 == prev_1):\n",
    "                \n",
    "                for i in range(4):\n",
    "                    smooth_event.append(next_1)\n",
    "            \n",
    "            else:\n",
    "                for i in range(596, 600):\n",
    "                    smooth_event.append(meditation[i])\n",
    "        \n",
    "        # check for values to be smoothed in the rest of the values\n",
    "        elif  ( index > 3 and\n",
    "             (current_value != prev_1) and\n",
    "             (current_value != next_1) and\n",
    "             (next_1 == next_2) and\n",
    "             (next_2 == next_3) and\n",
    "             (prev_1 == prev_2) and\n",
    "             (prev_2 == prev_3) and\n",
    "             (prev_1 == next_1)\n",
    "             ):\n",
    "\n",
    "            smooth_event.append(next_1)\n",
    "            smoothing_indices[index] = 1\n",
    "\n",
    "        else:\n",
    "            smooth_event.append(current_value)\n",
    "\n",
    "                        \n",
    "    return (smooth_event, smoothing_indices)\n",
    "            "
   ]
  },
  {
   "cell_type": "code",
   "execution_count": 9,
   "metadata": {
    "scrolled": true
   },
   "outputs": [
    {
     "name": "stdout",
     "output_type": "stream",
     "text": [
      "/Users/sashaskinner/Documents/Projects/embody_study/publication_scripts/embody_demo/embody_study//phase1_demo/results/step2/124/\n",
      "Subject: 124\n",
      "\n",
      "Percent Smoothed: 1.5%\n",
      "\n",
      "Writing 'step2_smooth.txt\n",
      "Writing 'step2_smooth_indices.txt\n",
      "\n",
      "-----\n",
      "\n",
      "\n",
      "Mean Percent Smoothed: 1.5%\n"
     ]
    }
   ],
   "source": [
    "# Smooth participant data and calculate percent of data that has been smoothed.\n",
    "# Display percent of participant data smoothed for each participant and the mean percent smoothed over all subjects.\n",
    "\n",
    "\n",
    "percent_smoothed_list = []\n",
    "\n",
    "for subj in subjects:\n",
    "    \n",
    "    write_path = \"%s/%s/results/step2/%d/\" % (root_dir, analysis, subj)\n",
    "    print(write_path)\n",
    "    os.chdir(write_path)\n",
    "        \n",
    "    # read in meditation if meditation is txt_file\n",
    "    meditation = read_txt_file(imports_subj_meditation(subj))\n",
    "    \n",
    "    smooth_events = event_smoothing(meditation)[0]\n",
    "    smoothing_indices = event_smoothing(meditation)[1]\n",
    "    \n",
    "    percent_smoothed = sum(smoothing_indices)/float(len(smoothing_indices)) * 100\n",
    "    percent_smoothed_list.append(float(percent_smoothed))\n",
    "    percent_smoothed = '{:.1f}%'.format(percent_smoothed)\n",
    "\n",
    "    \n",
    "    smooth_events = [str(x) for x in smooth_events]\n",
    "    smoothing_indices = [str(x) for x in smoothing_indices]\n",
    "    \n",
    "    print(\"Subject: %d\" % subj)\n",
    "    print(\"\")\n",
    "    print(\"Percent Smoothed: %s\" % percent_smoothed)\n",
    "    print(\"\")\n",
    "    print(\"Writing 'step2_smooth.txt\")\n",
    "    write_txt_file(\"step2_smooth.txt\", smooth_events)\n",
    "    print(\"Writing 'step2_smooth_indices.txt\")\n",
    "    write_txt_file(\"step2_smooth_indices.txt\", smoothing_indices)\n",
    "    print(\"\")\n",
    "    print(\"-----\")\n",
    "    print(\"\")\n",
    "\n",
    "mean_percent_smoothed = sum(percent_smoothed_list)/float(len(percent_smoothed_list))\n",
    "print(\"\")\n",
    "print(\"Mean Percent Smoothed: {:.1f}%\".format(mean_percent_smoothed))\n"
   ]
  },
  {
   "cell_type": "code",
   "execution_count": null,
   "metadata": {
    "collapsed": true
   },
   "outputs": [],
   "source": []
  }
 ],
 "metadata": {
  "kernelspec": {
   "display_name": "Python 2",
   "language": "python",
   "name": "python2"
  },
  "language_info": {
   "codemirror_mode": {
    "name": "ipython",
    "version": 2
   },
   "file_extension": ".py",
   "mimetype": "text/x-python",
   "name": "python",
   "nbconvert_exporter": "python",
   "pygments_lexer": "ipython2",
   "version": "2.7.10"
  }
 },
 "nbformat": 4,
 "nbformat_minor": 2
}
