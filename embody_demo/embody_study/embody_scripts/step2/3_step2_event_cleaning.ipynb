{
 "cells": [
  {
   "cell_type": "markdown",
   "metadata": {},
   "source": [
    "### Script 3 – Event cleaning - Decisions"
   ]
  },
  {
   "cell_type": "markdown",
   "metadata": {},
   "source": [
    "<b>Functions</b>: Define events, Criterion: >= 3 contiguous classifications, will throw out “noise” in data."
   ]
  },
  {
   "cell_type": "markdown",
   "metadata": {},
   "source": [
    "<b>Input</b>: smoothed file (600 TRs)\n",
    "<br>\n",
    "<br>\n",
    "<u>Output Files</u>:\n",
    "<br>\n",
    "New meditation period with events (<600 TRs; step2_event_clean_short.csv file) \n",
    "<br>\n",
    "Full meditation period with excluded data points, can see spaces between events of same type (600 TRs, step2_event_clean_all.txt)\n",
    "<br> \n",
    "New meditation period with single zero between adjacent events of same type. For plotting purposes (<600 TRs; step2_event_clean_short_zero.csv file)\n",
    "<br>\n",
    "Index of excluded points (step2_event_exclude.txt file 000010000)\n",
    "<br>\n",
    "Index of included points (step2_event_include.txt file 111101111) – inverse of excluded"
   ]
  },
  {
   "cell_type": "markdown",
   "metadata": {},
   "source": [
    "Identify % data points excluded (in notebook) – each subj loop, also print average across subjects"
   ]
  },
  {
   "cell_type": "code",
   "execution_count": 2,
   "metadata": {
    "collapsed": true
   },
   "outputs": [],
   "source": [
    "import os\n",
    "\n",
    "import numpy as np\n",
    "import pandas as pd\n",
    "import scipy.io as sio"
   ]
  },
  {
   "cell_type": "code",
   "execution_count": 3,
   "metadata": {
    "collapsed": true
   },
   "outputs": [],
   "source": [
    "# set root directory\n",
    "root_dir = \"/Path/To/EMBODY_Study/Files\""
   ]
  },
  {
   "cell_type": "code",
   "execution_count": 5,
   "metadata": {
    "collapsed": true
   },
   "outputs": [],
   "source": [
    "# define subjects\n",
    "subjects = [124]\n",
    "\n",
    "# define analyses\n",
    "analysis = \"phase1_demo\""
   ]
  },
  {
   "cell_type": "markdown",
   "metadata": {},
   "source": [
    "### Define Functions"
   ]
  },
  {
   "cell_type": "code",
   "execution_count": 6,
   "metadata": {
    "collapsed": true
   },
   "outputs": [],
   "source": [
    "def imports_subj_meditation(subj):\n",
    "\n",
    "    # change directory to subject file\n",
    "    os.chdir(\"%s/%s/results/step2/%d/\"\n",
    "             % (root_dir, analysis, subj))\n",
    "\n",
    "    # read in subject's text file\n",
    "    filename = \"step2_3cat.txt\"\n",
    "\n",
    "    return filename"
   ]
  },
  {
   "cell_type": "code",
   "execution_count": 7,
   "metadata": {
    "collapsed": true
   },
   "outputs": [],
   "source": [
    "def read_txt_file(filename):\n",
    "    \"\"\"Read meditation file, returns array of digits\n",
    "        filename: input is string (e.g., \"step2_3cat.txt\")\n",
    "    \"\"\"\n",
    "\n",
    "    with open(filename, 'rw') as f:\n",
    "        content = f.readlines()\n",
    "        content = list(content[0])\n",
    "\n",
    "        # filter items in content by whether or not they are a digit. if digit, convert to integer.\n",
    "        content = [int(x) for x in content if x.isdigit()]\n",
    "\n",
    "        return content"
   ]
  },
  {
   "cell_type": "code",
   "execution_count": 8,
   "metadata": {
    "collapsed": true
   },
   "outputs": [],
   "source": [
    "def write_txt_file(filename, to_write):\n",
    "\n",
    "    with open(filename, 'w') as f:\n",
    "\n",
    "        f.write(\",\".join(to_write))"
   ]
  },
  {
   "cell_type": "code",
   "execution_count": 12,
   "metadata": {
    "collapsed": true
   },
   "outputs": [],
   "source": [
    "def events(subj):\n",
    "    \"\"\"input is subject id (int) and smooth (True/False)\n",
    "    \n",
    "    output is three lists: surviving_events, included_events, excluded_events\n",
    "    made where events of length 3 or greater are included.\"\"\"\n",
    "    \n",
    "    # import meditation\n",
    "    \n",
    "    # navigate to subject's directory\n",
    "    os.chdir(\"%s/%s/results/step2/%d/\" % (root_dir, analysis, subj))  \n",
    "    \n",
    "    # smoothed classifcations file\n",
    "    meditation = read_txt_file(\"step2_smooth.txt\")\n",
    "        \n",
    "    surviving_events = []\n",
    "    included_events = [None] * 600\n",
    "    excluded_events = [None] * 600\n",
    "\n",
    "    for i in range(2, len(meditation) - 2):\n",
    "\n",
    "        current_value = meditation[i]\n",
    "\n",
    "        next_1 = meditation[i + 1]\n",
    "        next_2 = meditation[i + 2]\n",
    "\n",
    "        prev_1 = meditation[i - 1]\n",
    "        prev_2 = meditation[i - 2]\n",
    "        \n",
    "\n",
    "        if i == 2:\n",
    "            if (current_value == prev_1) and (prev_1 == prev_2):\n",
    "\n",
    "                surviving_events.append(prev_2)\n",
    "                included_events[i - 2] = 1\n",
    "                excluded_events[i - 2] = 0\n",
    "\n",
    "                surviving_events.append(prev_1)\n",
    "                included_events[i - 1] = 1\n",
    "                excluded_events[i - 1] = 0\n",
    "\n",
    "                surviving_events.append(current_value)\n",
    "                included_events[i] = 1\n",
    "                excluded_events[i] = 0\n",
    "\n",
    "            else:\n",
    "                included_events[i - 2] = 0\n",
    "                excluded_events[i - 2] = 1\n",
    "\n",
    "                included_events[i - 1] = 0\n",
    "                excluded_events[i - 1] = 1\n",
    "\n",
    "                included_events[i] = 0\n",
    "                excluded_events[i] = 1\n",
    "\n",
    "\n",
    "        elif (i > 2) and (i < 597):\n",
    "            if (current_value == next_1) and (next_1 == next_2):\n",
    "                surviving_events.append(current_value)\n",
    "                included_events[i] = 1\n",
    "                excluded_events[i] = 0\n",
    "\n",
    "            elif (current_value == next_1) and (current_value == prev_1):\n",
    "                surviving_events.append(current_value)\n",
    "                included_events[i] = 1\n",
    "                excluded_events[i] = 0\n",
    "\n",
    "            elif (current_value != next_1) and (current_value == prev_1) and (prev_1 == prev_2):\n",
    "                surviving_events.append(current_value)\n",
    "                included_events[i] = 1\n",
    "                excluded_events[i] = 0\n",
    "\n",
    "            else:\n",
    "                included_events[i] = 0\n",
    "                excluded_events[i] = 1\n",
    "\n",
    "        elif i == 597:\n",
    "\n",
    "            if (current_value == next_1) and (next_1 == next_2):\n",
    "\n",
    "                surviving_events.append(current_value)\n",
    "                included_events[i] = 1\n",
    "                excluded_events[i] = 0\n",
    "\n",
    "                surviving_events.append(next_1)\n",
    "                included_events[i + 1] = 1\n",
    "                excluded_events[i + 1] = 0\n",
    "\n",
    "                surviving_events.append(next_2)\n",
    "                included_events[i + 2] = 1\n",
    "                excluded_events[i + 2] = 0\n",
    "                \n",
    "            elif (current_value == prev_1) and (prev_1 == prev_2):\n",
    "                \n",
    "                surviving_events.append(current_value)\n",
    "                included_events[i] = 1\n",
    "                excluded_events[i] = 0\n",
    "                \n",
    "                if next_1 == current_value:\n",
    "                    surviving_events.append(next_1)\n",
    "                    included_events[i + 1] = 1\n",
    "                    excluded_events[i + 1] = 0\n",
    "                \n",
    "                    if next_2 == current_value:\n",
    "                        \n",
    "                        surviving_events.append(next_2)\n",
    "                        included_events[i + 2] = 1\n",
    "                        excluded_events[i + 2] = 0\n",
    "                    \n",
    "                    else:\n",
    "                        \n",
    "                        included_events[i + 2] = 0\n",
    "                        excluded_events[i + 2] = 1\n",
    "                \n",
    "                else:\n",
    "                    included_events[i + 1] = 0\n",
    "                    excluded_events[i + 1] = 1\n",
    "                \n",
    "            else:\n",
    "                \n",
    "                included_events[i] = 0\n",
    "                excluded_events[i] = 1\n",
    "\n",
    "                included_events[i + 1] = 0\n",
    "                excluded_events[i + 1] = 1\n",
    "\n",
    "                included_events[i + 2] = 0\n",
    "                excluded_events[i + 2] = 1\n",
    "                \n",
    "                \n",
    "    surviving_events = [str(x) for x in surviving_events]\n",
    "    included_events = [str(x) for x in included_events]\n",
    "    \n",
    "    ### write file with percentage of events cleaned\n",
    "    \n",
    "    # take the sum of the total excluded events (all 1s in excluded_events)\n",
    "    sum_excluded_events = sum(excluded_events)\n",
    "    # total events is length of excluded_events\n",
    "    total_events = len(excluded_events)\n",
    "    # calculate & format percentage of events excluded after event cleaning\n",
    "    percent_events_cleaned = pd.Series(\"{:.2f}\".format(((float(sum_excluded_events) / total_events) * 100)))\n",
    "    # write percentage to csv\n",
    "    percent_events_cleaned.to_csv(\"percent_events_cleaned.csv\")\n",
    "    \n",
    "    excluded_events = [str(x) for x in excluded_events]\n",
    "\n",
    "    return (surviving_events, included_events, excluded_events)"
   ]
  },
  {
   "cell_type": "code",
   "execution_count": 14,
   "metadata": {
    "scrolled": false
   },
   "outputs": [
    {
     "name": "stdout",
     "output_type": "stream",
     "text": [
      "Writing 'step2_opt_event_clean.csv/txt'\n",
      "Writing 'step2_opt_include.csv/txt'\n",
      "Writing 'step2_opt_exclude.csv/txt\n",
      "\n",
      "22.67% of data points excluded from 124's clean (events3) dataset.\n",
      "\n",
      "22.67% average data points excluded from phase1_demo\n",
      "\n"
     ]
    }
   ],
   "source": [
    "percent_excluded_all_subjs_e3 = []\n",
    "\n",
    "for subj in subjects:\n",
    "    print(\"Writing 'step2_opt_event_clean.csv/txt'\")\n",
    "    events_df = pd.DataFrame(events(subj)[0])\n",
    "    events_df.to_csv(\"%s/%s/results/step2/%s/step2_event_clean.csv\" % (root_dir, analysis, subj))\n",
    "    write_txt_file(\"%s/%s/results/step2/%s/step2_event_clean.txt\" % (root_dir, analysis, subj), events(subj)[0])\n",
    "\n",
    "    print(\"Writing 'step2_opt_include.csv/txt'\")\n",
    "    include_df = pd.DataFrame(events(subj)[1])\n",
    "    include_df.to_csv(\"%s/%s/results/step2/%s/step2_include.csv\" % (root_dir, analysis, subj))\n",
    "    write_txt_file(\"%s/%s/results/step2/%s/step2_include.txt\" % (root_dir, analysis, subj), events(subj)[1])\n",
    "\n",
    "    print(\"Writing 'step2_opt_exclude.csv/txt\")\n",
    "    exclude_df = pd.DataFrame(events(subj)[2])\n",
    "    exclude_df.to_csv(\"%s/%s/results/step2/%s/step2_exclude.csv\" % (root_dir, analysis, subj))\n",
    "    write_txt_file(\"%s/%s/results/step2/%s/step2_exclude.txt\" % (root_dir, analysis, subj), events(subj)[2])\n",
    "\n",
    "\n",
    "    # calculate number of events excluded from clean file & append to list for all subjects\n",
    "    excluded_events_int = [int(x) for x in events(subj)[2]]\n",
    "    included_events_int = [int(x) for x in events(subj)[1]]\n",
    "    percent_excluded = (float(sum(excluded_events_int)) / 600) * 100\n",
    "    percent_excluded_all_subjs_e3.append(percent_excluded)\n",
    "    percent_excluded = round(percent_excluded, 2)\n",
    "    print(\"\")\n",
    "    print(str(percent_excluded) + \"%% of data points excluded from %d's clean (events3) dataset.\" % subj)\n",
    "    print(\"\")  \n",
    "\n",
    "mean_excluded_e3 = round(np.mean(np.array(percent_excluded_all_subjs_e3)), 2)\n",
    "print(str(mean_excluded_e3) + \"%% average data points excluded from %s\" % analysis)\n",
    "\n",
    "print(\"\")\n"
   ]
  },
  {
   "cell_type": "code",
   "execution_count": null,
   "metadata": {
    "collapsed": true
   },
   "outputs": [],
   "source": []
  }
 ],
 "metadata": {
  "kernelspec": {
   "display_name": "Python 2",
   "language": "python",
   "name": "python2"
  },
  "language_info": {
   "codemirror_mode": {
    "name": "ipython",
    "version": 2
   },
   "file_extension": ".py",
   "mimetype": "text/x-python",
   "name": "python",
   "nbconvert_exporter": "python",
   "pygments_lexer": "ipython2",
   "version": "2.7.10"
  }
 },
 "nbformat": 4,
 "nbformat_minor": 2
}
