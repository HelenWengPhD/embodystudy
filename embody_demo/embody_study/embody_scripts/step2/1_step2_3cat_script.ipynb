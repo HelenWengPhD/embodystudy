{
 "cells": [
  {
   "cell_type": "markdown",
   "metadata": {},
   "source": [
    "### Script 1 - Decode conditions of interest"
   ]
  },
  {
   "cell_type": "markdown",
   "metadata": {},
   "source": [
    "<b>Function</b>: Decodes meditation into 3 categories - Breath, Mind Wandering, Self-referential processing\n",
    "<br>\n",
    "<u>Output</u>: New step2 files (1, 3, 4) (600 TRs; step2_3cat.txt/csv file)"
   ]
  },
  {
   "cell_type": "code",
   "execution_count": 1,
   "metadata": {
    "collapsed": true
   },
   "outputs": [],
   "source": [
    "import os\n",
    "import numpy as np\n",
    "import pandas as pd\n",
    "import scipy.io as sio"
   ]
  },
  {
   "cell_type": "code",
   "execution_count": 3,
   "metadata": {
    "collapsed": true
   },
   "outputs": [],
   "source": [
    "# set root directory\n",
    "root_dir = \"/Path/To/EMBODY_Study/\""
   ]
  },
  {
   "cell_type": "code",
   "execution_count": 7,
   "metadata": {
    "collapsed": true
   },
   "outputs": [],
   "source": [
    "# Decode meditation period into 2 or 3 categories based on 5-cat evidence values\n",
    "\n",
    "# analysis name\n",
    "analysis = 'phase1_demo'\n",
    "\n",
    "# enter subject ids\n",
    "subjects = [124]"
   ]
  },
  {
   "cell_type": "code",
   "execution_count": 5,
   "metadata": {
    "collapsed": true
   },
   "outputs": [],
   "source": [
    "# 3-category classification - Breath, Stop, Self\n",
    "def decision_3cat():\n",
    "    \n",
    "    decision_list_3cat=[]\n",
    "    \n",
    "    for index in range(len(confidence1)):\n",
    "        \n",
    "        if confidence1[index] > confidence3[index] and confidence1[index] > confidence4[index]:\n",
    "            decision_list_3cat.append(1)\n",
    "        \n",
    "        elif confidence3[index] > confidence4[index] and confidence3[index] > confidence1[index]:\n",
    "            decision_list_3cat.append(3)\n",
    "        \n",
    "        elif confidence4[index] > confidence1[index] and confidence4[index] > confidence3[index]:\n",
    "            decision_list_3cat.append(4)\n",
    "    \n",
    "    return decision_list_3cat\n"
   ]
  },
  {
   "cell_type": "code",
   "execution_count": 6,
   "metadata": {
    "collapsed": true
   },
   "outputs": [],
   "source": [
    "# save new meditation period files\n",
    "def savefiles():\n",
    "    with open(\"step2_3cat.txt\", \"w\") as output:\n",
    "         output.write(str(meditation_3cat))"
   ]
  },
  {
   "cell_type": "code",
   "execution_count": 15,
   "metadata": {
    "collapsed": true
   },
   "outputs": [],
   "source": [
    "for subj in subjects:\n",
    "\n",
    "    os.chdir('%s/%s/results/step2/%d/' % (root_dir, analysis, subj))\n",
    "\n",
    "    data = sio.loadmat('pretty_results_step2.mat')['prettyResult'][0][0]\n",
    "\n",
    "    confidence = data[4]\n",
    "    confidence1 = data[4][0] # Breath\n",
    "    confidence3 = data[4][2] # Stop\n",
    "    confidence4 = data[4][3] # Self\n",
    "\n",
    "    # assign variables for decoded meditation\n",
    "    meditation_3cat = decision_3cat()\n",
    "\n",
    "    savefiles()"
   ]
  },
  {
   "cell_type": "code",
   "execution_count": null,
   "metadata": {
    "collapsed": true
   },
   "outputs": [],
   "source": []
  }
 ],
 "metadata": {
  "kernelspec": {
   "display_name": "Python 2",
   "language": "python",
   "name": "python2"
  },
  "language_info": {
   "codemirror_mode": {
    "name": "ipython",
    "version": 2
   },
   "file_extension": ".py",
   "mimetype": "text/x-python",
   "name": "python",
   "nbconvert_exporter": "python",
   "pygments_lexer": "ipython2",
   "version": "2.7.10"
  }
 },
 "nbformat": 4,
 "nbformat_minor": 2
}
