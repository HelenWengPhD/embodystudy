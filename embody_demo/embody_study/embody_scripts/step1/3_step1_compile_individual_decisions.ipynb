{
 "cells": [
  {
   "cell_type": "markdown",
   "metadata": {},
   "source": [
    "### Determine accuracy at individual subject-level\n",
    "1. Compiles decision data for SPSS chi square for each subject (output: decisions_correct.csv)\n",
    "2. Compiles all subjects into one file (output: step1_compile/decisions_correct_all.csv)\n",
    "3. To run stat in SPSS or R or python?"
   ]
  },
  {
   "cell_type": "code",
   "execution_count": 1,
   "metadata": {
    "collapsed": true
   },
   "outputs": [],
   "source": [
    "import os\n",
    "import numpy as np\n",
    "import pandas as pd\n",
    "import scipy.io as sio"
   ]
  },
  {
   "cell_type": "code",
   "execution_count": 2,
   "metadata": {
    "collapsed": true
   },
   "outputs": [],
   "source": [
    "root_dir = '/Path/to/EMBODY/study'\n",
    "\n",
    "analysis = 'phase1_demo'\n",
    "subjects = [124]"
   ]
  },
  {
   "cell_type": "code",
   "execution_count": 3,
   "metadata": {
    "collapsed": true
   },
   "outputs": [],
   "source": [
    "def condition_classCorrect(condition_number):\n",
    "    \n",
    "    classCorrect_append = []\n",
    "    \n",
    "    for index in range(len(condition_list)):\n",
    "        current_value = condition_list[index] # value at that index, 1-5\n",
    "        classCorrect_value = classCorrect_list[index]\n",
    "        \n",
    "        # appends breath decision accuracies (1,0)\n",
    "        if current_value == condition_number:\n",
    "            classCorrect_append.append(classCorrect_value)\n",
    "    \n",
    "    return classCorrect_append"
   ]
  },
  {
   "cell_type": "code",
   "execution_count": 4,
   "metadata": {
    "collapsed": true
   },
   "outputs": [],
   "source": [
    "# compile 3 classCorrect columns for each subj: 432 rows x 4 columns\n",
    "def compile_decisions_correct():\n",
    "    \n",
    "    #breath = 1, stop = 2, self = 3\n",
    "    #chance = chance_correct\n",
    "    breath = condition_classCorrect(1)\n",
    "    stop = condition_classCorrect(2)\n",
    "    self = condition_classCorrect(3)\n",
    "\n",
    "    concat_correct = np.column_stack((breath, stop, self)) # stack by column\n",
    "    columns_list = ['breath_%d' % subj, 'stop_%d' % subj, 'self_%d' % subj] # subj-specific heading\n",
    "    \n",
    "    concat_correct_df = pd.DataFrame(concat_correct, columns = columns_list) # convert into a pandas dataframe\n",
    "    concat_correct_df.to_csv('decisions_correct.csv') # writes out data to current dir"
   ]
  },
  {
   "cell_type": "code",
   "execution_count": 5,
   "metadata": {
    "collapsed": true
   },
   "outputs": [],
   "source": [
    "# Compiles Breath, Stop, Self decisions correct/incorrect for all subjects\n",
    "# open Decision accuracy data (classCorrect)\n",
    "\n",
    "# revision1 - respiration regressed\n",
    "for subj in subjects:\n",
    "\n",
    "    os.chdir('%s/%s/results/step1/%d/' % (root_dir, analysis, subj))\n",
    "\n",
    "    data = sio.loadmat('pretty_results_step1.mat')['prettyResult'][0][0]\n",
    "\n",
    "    condition = data[4]\n",
    "    classCorrect = data[5]\n",
    "    condition_list = list(condition[0])\n",
    "    classCorrect_list = list(classCorrect[0])\n",
    "\n",
    "    compile_decisions_correct()"
   ]
  },
  {
   "cell_type": "code",
   "execution_count": 6,
   "metadata": {
    "collapsed": true
   },
   "outputs": [],
   "source": [
    "# 2. Concatenate all subject decisions - for SPSS file\n",
    "\n",
    "all_subj_data = []\n",
    "\n",
    "for subj in subjects:\n",
    "\n",
    "    os.chdir('%s/%s/results/step1/%d/' % (root_dir, analysis, subj))\n",
    "    infile = 'decisions_correct.csv'\n",
    "    data = pd.read_csv(infile, sep=',', index_col=0)\n",
    "    # store DataFrame in list\n",
    "    all_subj_data.append(data)\n",
    "\n",
    "# Concatenate decision correct data\n",
    "all_subj_data = pd.concat(all_subj_data, axis=1) # concat by columns\n",
    "#print all_subj_data\n",
    "\n",
    "# write DataFrame to a csv sheet \n",
    "os.chdir('%s/%s/results/step1_compile/' % (root_dir, analysis))\n",
    "all_subj_data.to_csv('step1_3_compile_decisions_correct.csv')"
   ]
  },
  {
   "cell_type": "code",
   "execution_count": null,
   "metadata": {
    "collapsed": true
   },
   "outputs": [],
   "source": []
  }
 ],
 "metadata": {
  "kernelspec": {
   "display_name": "Python 2",
   "language": "python",
   "name": "python2"
  },
  "language_info": {
   "codemirror_mode": {
    "name": "ipython",
    "version": 2
   },
   "file_extension": ".py",
   "mimetype": "text/x-python",
   "name": "python",
   "nbconvert_exporter": "python",
   "pygments_lexer": "ipython2",
   "version": "2.7.10"
  }
 },
 "nbformat": 4,
 "nbformat_minor": 2
}
