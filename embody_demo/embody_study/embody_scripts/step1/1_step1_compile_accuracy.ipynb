{
 "cells": [
  {
   "cell_type": "markdown",
   "metadata": {},
   "source": [
    "#### Compiles and outputs Step 1 classifier accuracy\n",
    "\n",
    "1. Compiles accuracies for each subject (output: step1_accuracy.csv)\n",
    "2. To compare analyses: Compiles average accuracies for each analysis (output: step1_average_accuracy.csv)"
   ]
  },
  {
   "cell_type": "code",
   "execution_count": 15,
   "metadata": {
    "collapsed": true
   },
   "outputs": [],
   "source": [
    "import os\n",
    "import numpy as np\n",
    "import pandas as pd\n",
    "import scipy.io as sio"
   ]
  },
  {
   "cell_type": "code",
   "execution_count": 16,
   "metadata": {
    "collapsed": true
   },
   "outputs": [],
   "source": [
    "root_dir = '/Path/to/EMBODY/study/root_dir'"
   ]
  },
  {
   "cell_type": "code",
   "execution_count": 17,
   "metadata": {
    "collapsed": true
   },
   "outputs": [],
   "source": [
    "# compiles step 1 accuracies for each subj\n",
    "# compiles average accuracies for each analysis\n",
    "# make new directories beforehand\n",
    "\n",
    "ml_brain = ['phase1_demo']\n",
    "subjects = [124]\n",
    "group = ['meditator']"
   ]
  },
  {
   "cell_type": "code",
   "execution_count": 20,
   "metadata": {
    "collapsed": true
   },
   "outputs": [],
   "source": [
    "average_accuracy_compile = []\n",
    "\n",
    "for analysis in ml_brain:\n",
    "    \n",
    "    accuracy_compile = []\n",
    "    \n",
    "    for subj in subjects:\n",
    "        \n",
    "        os.chdir('%s/%s/results/step1/%d/' % (root_dir, analysis, subj))\n",
    "        data = sio.loadmat('stats_step1.mat')['stats'][0][0][1][0]\n",
    "        accuracy_compile.append(data)\n",
    "    \n",
    "    acc_mean = np.mean(accuracy_compile, axis=0) # mean of all columns\n",
    "    average_accuracy_compile.append(acc_mean)\n",
    "    \n",
    "    # save accuracy_compile dataframe, step1 accuracies for each subj\n",
    "    df = pd.DataFrame(accuracy_compile, index = subjects, columns = [\"Breath\", \"Feet\", \"Stop\", \"Self\", \"Sounds\"])\n",
    "    df.insert(0, \"group\", group) # insert group in first column after index\n",
    "    os.chdir('%s/%s/results/step1_compile/' % (root_dir, analysis))\n",
    "    df.to_csv(\"step1_1_accuracy.csv\")\n",
    "\n",
    "# save average_accuracy_compile dataframe - compiles all analyses\n",
    "df_avg = pd.DataFrame(average_accuracy_compile, index = ml_brain, columns = [\"Breath\", \"Feet\", \"Stop\", \"Self\", \"Sounds\"])\n",
    "os.chdir('%s/%s/results/analysis_stats/step1_compile/' % (root_dir, analysis))\n",
    "df_avg.to_csv(\"step1_1_average_accuracy.csv\")"
   ]
  },
  {
   "cell_type": "code",
   "execution_count": null,
   "metadata": {
    "collapsed": true
   },
   "outputs": [],
   "source": []
  }
 ],
 "metadata": {
  "kernelspec": {
   "display_name": "Python 2",
   "language": "python",
   "name": "python2"
  },
  "language_info": {
   "codemirror_mode": {
    "name": "ipython",
    "version": 2
   },
   "file_extension": ".py",
   "mimetype": "text/x-python",
   "name": "python",
   "nbconvert_exporter": "python",
   "pygments_lexer": "ipython2",
   "version": "2.7.10"
  }
 },
 "nbformat": 4,
 "nbformat_minor": 2
}
