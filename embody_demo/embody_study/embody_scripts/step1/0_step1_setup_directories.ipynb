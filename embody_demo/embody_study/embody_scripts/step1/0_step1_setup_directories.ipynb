{
 "cells": [
  {
   "cell_type": "markdown",
   "metadata": {},
   "source": [
    "#### Makes directories for analysis and subject-level compilations"
   ]
  },
  {
   "cell_type": "code",
   "execution_count": 1,
   "metadata": {
    "collapsed": true
   },
   "outputs": [],
   "source": [
    "import os"
   ]
  },
  {
   "cell_type": "code",
   "execution_count": 4,
   "metadata": {
    "collapsed": true
   },
   "outputs": [],
   "source": [
    "root_dir = 'path/to/EMBODY/study/root_dir'\n",
    "analysis = 'phase1_demo'\n",
    "analysis_dirs = ['step1_compile','step3_compile']"
   ]
  },
  {
   "cell_type": "code",
   "execution_count": 6,
   "metadata": {
    "collapsed": true
   },
   "outputs": [],
   "source": [
    "# Create directories for analysis tree\n",
    "\n",
    "# make directories for analysis-level compilation\n",
    "if not os.path.isdir('%s/%s/results/analysis_stats' % (root_dir, analysis)):\n",
    "    os.chdir('%s/%s/results' % (root_dir, analysis))\n",
    "    os.mkdir('analysis_stats')\n",
    "\n",
    "for d in analysis_dirs:\n",
    "    if not os.path.isdir('%s/%s/results/analysis_stats/%s' % (root_dir, analysis, d)):\n",
    "        os.mkdir('%s/%s/results/analysis_stats/%s' % (root_dir, analysis, d))"
   ]
  },
  {
   "cell_type": "code",
   "execution_count": 9,
   "metadata": {
    "collapsed": true
   },
   "outputs": [],
   "source": [
    "# make directories for subject-level compilation within each analysis\n",
    "os.chdir('%s/%s/results' % (root_dir, analysis))\n",
    "    \n",
    "for d in analysis_dirs:\n",
    "    if not os.path.isdir('%s' % d):\n",
    "        os.mkdir('%s' % d)"
   ]
  },
  {
   "cell_type": "code",
   "execution_count": null,
   "metadata": {
    "collapsed": true
   },
   "outputs": [],
   "source": []
  }
 ],
 "metadata": {
  "kernelspec": {
   "display_name": "Python 2",
   "language": "python",
   "name": "python2"
  },
  "language_info": {
   "codemirror_mode": {
    "name": "ipython",
    "version": 2
   },
   "file_extension": ".py",
   "mimetype": "text/x-python",
   "name": "python",
   "nbconvert_exporter": "python",
   "pygments_lexer": "ipython2",
   "version": "2.7.10"
  }
 },
 "nbformat": 4,
 "nbformat_minor": 2
}
