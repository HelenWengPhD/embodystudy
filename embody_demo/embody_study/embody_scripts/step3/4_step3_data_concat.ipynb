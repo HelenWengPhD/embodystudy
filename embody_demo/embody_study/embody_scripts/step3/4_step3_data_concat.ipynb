{
 "cells": [
  {
   "cell_type": "markdown",
   "metadata": {},
   "source": [
    "## Concatenates data files from step3 to enter into master csv file, step3_compile/\n",
    "\n",
    "        1. step3_1_3cat_conditionStats.csv\n",
    "        2. step3_4_3cat_aggregate_stats.csv\n",
    "        3. step3_2_distraction_fluctuation.csv"
   ]
  },
  {
   "cell_type": "code",
   "execution_count": 3,
   "metadata": {
    "collapsed": true
   },
   "outputs": [],
   "source": [
    "import os\n",
    "import pandas as pd"
   ]
  },
  {
   "cell_type": "code",
   "execution_count": 1,
   "metadata": {
    "collapsed": true
   },
   "outputs": [],
   "source": [
    "# set variables\n",
    "root_dir = '/Path/to/EMBODY/Files'\n",
    "analysis = 'phase1_demo'\n",
    "\n",
    "# step3 files to concatenate\n",
    "files = ['step3_1_3cat_conditionStats.csv', \\\n",
    "         'step3_4_3cat_aggregate_stats.csv', \\\n",
    "         'step3_2_distraction_fluctuation.csv']"
   ]
  },
  {
   "cell_type": "code",
   "execution_count": 6,
   "metadata": {
    "collapsed": true
   },
   "outputs": [],
   "source": [
    "## Compile step3 stats across subjects - for SPSS\n",
    "\n",
    "# Append all step3 data\n",
    "appended_data = []\n",
    "\n",
    "for f in files:\n",
    "    \n",
    "    os.chdir('%s/%s/results/step3_compile' % (root_dir, analysis))\n",
    "    data = pd.read_csv('%s' % f, sep=',', index_col=0)\n",
    "    # store DataFrame in list\n",
    "    appended_data.append(data)\n",
    "    \n",
    "# Concatenate step3 meditation stats\n",
    "df = pd.concat(appended_data, axis=1) # concat by columns\n",
    "# remove duplicate \"group\" columns\n",
    "df = df.loc[:, ~df.columns.duplicated()]\n",
    "    \n",
    "# write DataFrame to csv\n",
    "os.chdir('%s/%s/results/step3_compile/' % (root_dir, analysis))\n",
    "df.to_csv('step3_master.csv')"
   ]
  },
  {
   "cell_type": "code",
   "execution_count": null,
   "metadata": {
    "collapsed": true
   },
   "outputs": [],
   "source": []
  }
 ],
 "metadata": {
  "kernelspec": {
   "display_name": "Python 2",
   "language": "python",
   "name": "python2"
  },
  "language_info": {
   "codemirror_mode": {
    "name": "ipython",
    "version": 2
   },
   "file_extension": ".py",
   "mimetype": "text/x-python",
   "name": "python",
   "nbconvert_exporter": "python",
   "pygments_lexer": "ipython2",
   "version": "2.7.10"
  }
 },
 "nbformat": 4,
 "nbformat_minor": 2
}
