{
 "cells": [
  {
   "cell_type": "markdown",
   "metadata": {},
   "source": [
    "#### Step 3 – Compute attention metrics during meditation - Breath, Stop (MW), Self\n",
    "\n",
    "1. Computes meditation stats in each condition for each subject - subj/step3_1_conditionStats.csv. Reads \"step2_event_clean_all.txt\" to count separate events of the same type (file includes 0,1,3,4)\n",
    "    - Percentage time\n",
    "    - **Events**:\n",
    "        - Number\n",
    "        - Mean Duration\n",
    "        - Mean SD\n",
    "\n",
    "2. Compiles stats from all subjs for SPSS - step3_compile/step3_1_3cat_conditionStats.csv\n",
    "3. To compare analyses: Compiles average stats for each analysis - step3_compile/1_step3_average_conditionStats.csv ¶"
   ]
  },
  {
   "cell_type": "code",
   "execution_count": 2,
   "metadata": {
    "collapsed": true
   },
   "outputs": [],
   "source": [
    "import os\n",
    "import numpy as np\n",
    "import scipy.io as sio\n",
    "import pandas as pd\n",
    "\n",
    "# set root directory\n",
    "root_dir = \"/Path/To/EMBODY_Study/Files\"\n",
    "\n",
    "# Enter analyses\n",
    "analysis = \"phase1_demo\"\n",
    "\n",
    "# Enter subj list\n",
    "subjects = [124]\n",
    "\n",
    "# Enter subj group\n",
    "group_step2 = ['control']"
   ]
  },
  {
   "cell_type": "markdown",
   "metadata": {},
   "source": [
    "### Define Functions"
   ]
  },
  {
   "cell_type": "code",
   "execution_count": 3,
   "metadata": {
    "collapsed": true
   },
   "outputs": [],
   "source": [
    "def read_txt_file(filename):\n",
    "    \"\"\"Read meditation file, returns array of digits\n",
    "\n",
    "        filename: input is string (e.g., \"step2_3cat.txt\")\n",
    "\n",
    "    \"\"\"\n",
    "\n",
    "    with open(filename, 'rw') as f:\n",
    "        content = f.readlines()\n",
    "    content = list(content[0])\n",
    "\n",
    "    # filter items in content by whether or not they are a digit. if digit, convert to integer.\n",
    "    content = [int(x) for x in content if x.isdigit()] \n",
    "\n",
    "    return content"
   ]
  },
  {
   "cell_type": "code",
   "execution_count": 4,
   "metadata": {
    "collapsed": true
   },
   "outputs": [],
   "source": [
    "# Condition percentage\n",
    "# stores in column based on condition number, so needs at least 4 columns\n",
    "def percents():\n",
    "\n",
    "    decision_count=[0, 0, 0, 0, 0]\n",
    "    percent=[0, 0, 0, 0, 0]\n",
    "    conditions=[1, 2, 3, 4, 5]\n",
    "    \n",
    "    for condition in conditions:\n",
    "    \n",
    "        for decision in meditation: \n",
    "            if decision == condition:\n",
    "                decision_count[condition - 1] += 1\n",
    "    \n",
    "    dec_percent = [100 * (x / float(sum(med_length))) for x in decision_count]\n",
    "    \n",
    "    return dec_percent"
   ]
  },
  {
   "cell_type": "code",
   "execution_count": 5,
   "metadata": {
    "collapsed": true
   },
   "outputs": [],
   "source": [
    "# Number of events per condition, skips 0s\n",
    "def events(): \n",
    "    \n",
    "    events_count=[0,0,0,0,0]\n",
    "    \n",
    "    for index in range(len(meditation)):\n",
    "        \n",
    "        current_value = meditation[index]\n",
    "        previous_value = meditation[index-1]\n",
    "        \n",
    "        if index == 0 and current_value != 0:        \n",
    "            events_count[current_value-1] += 1\n",
    "        elif current_value == 0:\n",
    "            continue\n",
    "        elif current_value != previous_value:\n",
    "            events_count[current_value-1] += 1\n",
    "    \n",
    "    return events_count"
   ]
  },
  {
   "cell_type": "code",
   "execution_count": 6,
   "metadata": {
    "collapsed": true
   },
   "outputs": [],
   "source": [
    "# List of durations for each event\n",
    "def durationsList():\n",
    "    \n",
    "    durations = [[0], [0], [0], [0], [0]]\n",
    "    \n",
    "    # Counts durations for every element except last\n",
    "    for index in range(len(meditation)-1):\n",
    "        \n",
    "        current_value = meditation[index]\n",
    "        next_value = meditation[index+1]\n",
    "        \n",
    "        if current_value == 0:\n",
    "            continue\n",
    "        elif current_value != next_value:\n",
    "            durations[current_value-1][-1] += 1 \n",
    "            durations[current_value-1].append(0)\n",
    "        elif current_value == next_value:\n",
    "            durations[current_value-1][-1] += 1\n",
    "    \n",
    "    # Counts last element\n",
    "    if current_value != 0:\n",
    "        durations[meditation[-1]-1][-1] += 1\n",
    "    \n",
    "    return durations"
   ]
  },
  {
   "cell_type": "code",
   "execution_count": 7,
   "metadata": {
    "collapsed": true
   },
   "outputs": [],
   "source": [
    "# Mean duration\n",
    "def meanDuration():\n",
    "    \n",
    "    durations = durationsList()\n",
    "    duration_mean = [np.mean([el for el in sublist if el > 0]) for sublist in durations]\n",
    "    \n",
    "    return duration_mean"
   ]
  },
  {
   "cell_type": "code",
   "execution_count": 8,
   "metadata": {
    "collapsed": true
   },
   "outputs": [],
   "source": [
    "# Standard deviation of duration\n",
    "def standardDeviation():\n",
    "    \n",
    "    durations = durationsList()\n",
    "    stdev = [np.std([el for el in sublist if el > 0], ddof=1) for sublist in durations]\n",
    "    \n",
    "    return stdev"
   ]
  },
  {
   "cell_type": "code",
   "execution_count": 16,
   "metadata": {
    "collapsed": true
   },
   "outputs": [],
   "source": [
    "# concatenate pct duration mean and stdev into columns\n",
    "def compile_stats():\n",
    "    \n",
    "    percent = percents()\n",
    "    event_count = events()\n",
    "    mean = meanDuration()\n",
    "    stdev = standardDeviation()\n",
    "    \n",
    "    meditation_stats = [percent[0], percent[2], percent[3], \n",
    "                        event_count[0], event_count[2], event_count[3],\n",
    "                        mean[0], mean[2], mean[3],\n",
    "                        stdev[0], stdev[2], stdev[3]]\n",
    "    \n",
    "    index_list = ['pct_breath', 'pct_stop', 'pct_self', \n",
    "                  'events_breath', 'events_stop', 'events_self', \n",
    "                  'mean_breath', 'mean_stop', 'mean_self', \n",
    "                  'sd_breath', 'sd_stop', 'sd_self']\n",
    "    \n",
    "    meditation_stats_df = pd.DataFrame(meditation_stats, index = index_list, columns = [subj]) # convert to pandas df\n",
    "    meditation_stats_df_ts = pd.DataFrame.transpose(meditation_stats_df) # transpose to 1 row\n",
    "    meditation_stats_df_ts.to_csv('step3_1_3cat_conditionStats.csv') # writes out data"
   ]
  },
  {
   "cell_type": "code",
   "execution_count": 17,
   "metadata": {
    "collapsed": true
   },
   "outputs": [],
   "source": [
    "### 1. Computes meditation stats in each condition for each subject\n",
    "\n",
    "for subj in subjects:\n",
    "        \n",
    "    os.chdir('%s/%s/results/step2/%d/' % (root_dir, analysis, subj))\n",
    "\n",
    "    infile = \"step2_event_clean.txt\"\n",
    "    includefile = \"step2_include.txt\"\n",
    "\n",
    "    meditation = read_txt_file(infile)\n",
    "    med_length = read_txt_file(includefile)\n",
    "\n",
    "    # write out data\n",
    "    compile_stats()"
   ]
  },
  {
   "cell_type": "code",
   "execution_count": 20,
   "metadata": {
    "collapsed": true
   },
   "outputs": [],
   "source": [
    "## 2. Compile step3 stats across subjects - for SPSS\n",
    "\n",
    "average_stats_compile = []\n",
    "\n",
    "    \n",
    "appended_data = []\n",
    "\n",
    "for subj in subjects:\n",
    "    os.chdir('%s/%s/results/step2/%d/' % (root_dir, analysis, subj))\n",
    "    data = pd.read_csv('step3_1_3cat_conditionStats.csv', sep=',', index_col=0)\n",
    "    # store DataFrame in list\n",
    "    appended_data.append(data)\n",
    "\n",
    "# Concatenate meditation stats\n",
    "df = pd.concat(appended_data, axis=0) # concat by rows\n",
    "df.insert(0, \"group\", group_step2) # insert group in first column after index\n",
    "\n",
    "# write DataFrame to csv \n",
    "os.chdir('%s/%s/results/step3_compile/' % (root_dir, analysis))\n",
    "df.to_csv('step3_1_3cat_conditionStats.csv')"
   ]
  },
  {
   "cell_type": "code",
   "execution_count": 23,
   "metadata": {
    "collapsed": true
   },
   "outputs": [],
   "source": [
    "## 3. Compute mean stats and compile across analyses\n",
    "\n",
    "med_stats_mean = df.mean(axis=0) # mean of all columns\n",
    "med_stats_mean_df = pd.DataFrame(med_stats_mean, columns = [analysis]) # mean of all columns\n",
    "med_stats_mean_ts = pd.DataFrame.transpose(med_stats_mean_df) # transpose to 1 row\n",
    "average_stats_compile.append(med_stats_mean_ts)\n",
    "\n",
    "# save analysis compilation to csv\n",
    "df_avg = pd.DataFrame(average_stats_compile[0])\n",
    "os.chdir('%s/%s/results/analysis_stats/step3_compile/' % (root_dir, analysis))\n",
    "df_avg.to_csv(\"step3_1_average_med_stats.csv\")"
   ]
  },
  {
   "cell_type": "code",
   "execution_count": null,
   "metadata": {
    "collapsed": true
   },
   "outputs": [],
   "source": []
  }
 ],
 "metadata": {
  "kernelspec": {
   "display_name": "Python 2",
   "language": "python",
   "name": "python2"
  },
  "language_info": {
   "codemirror_mode": {
    "name": "ipython",
    "version": 2
   },
   "file_extension": ".py",
   "mimetype": "text/x-python",
   "name": "python",
   "nbconvert_exporter": "python",
   "pygments_lexer": "ipython2",
   "version": "2.7.10"
  }
 },
 "nbformat": 4,
 "nbformat_minor": 2
}
