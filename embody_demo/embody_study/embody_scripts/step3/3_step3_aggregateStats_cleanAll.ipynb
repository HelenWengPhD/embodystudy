{
 "cells": [
  {
   "cell_type": "markdown",
   "metadata": {},
   "source": [
    "# <h2> Step 3 – script 4 - Aggregate statistics across conditions\n",
    "<br>\n",
    "    <br>1. Total number of events \n",
    "    <br>2. Percentage events (# events / total events)\n",
    "    <br> Output - Output: step3_4_aggregate_stats.csv"
   ]
  },
  {
   "cell_type": "code",
   "execution_count": 1,
   "metadata": {
    "collapsed": true
   },
   "outputs": [],
   "source": [
    "import os\n",
    "import numpy as np\n",
    "import scipy.io as sio\n",
    "import pandas as pd\n",
    "from __future__ import division"
   ]
  },
  {
   "cell_type": "code",
   "execution_count": 3,
   "metadata": {
    "collapsed": true
   },
   "outputs": [],
   "source": [
    "# Enter root directory\n",
    "root_dir = \"/Path/to/EMBODY/Files\"\n",
    "\n",
    "# Enter analyses\n",
    "analysis = \"phase1_demo\"\n",
    "\n",
    "# Enter step2 subj list\n",
    "subjects = [124]\n",
    "group_step2 = [\"control\"]"
   ]
  },
  {
   "cell_type": "code",
   "execution_count": 4,
   "metadata": {
    "collapsed": true
   },
   "outputs": [],
   "source": [
    "def read_txt_file(filename):\n",
    "    \"\"\"Read meditation file, returns array of digits\n",
    "\n",
    "        filename: input is string (e.g., \"step2_3cat.txt\")\n",
    "\n",
    "    \"\"\"\n",
    "\n",
    "    with open(filename, 'rw') as f:\n",
    "        content = f.readlines()\n",
    "    content = list(content[0])\n",
    "\n",
    "    # filter items in content by whether or not they are a digit. if digit, convert to integer.\n",
    "    content = [int(x) for x in content if x.isdigit()] \n",
    "\n",
    "    return content"
   ]
  },
  {
   "cell_type": "code",
   "execution_count": 5,
   "metadata": {
    "collapsed": true
   },
   "outputs": [],
   "source": [
    "# Compute aggregate stats\n",
    "def aggregate_stats(): \n",
    "    \n",
    "    events_count=[0,0,0,0,0]\n",
    "    \n",
    "    for index in range(len(meditation)):\n",
    "        current_value = meditation[index]\n",
    "        previous_value = meditation[index-1]\n",
    "        if index == 0 and current_value != 0:        \n",
    "            events_count[current_value-1] += 1\n",
    "        elif current_value == 0:\n",
    "            continue\n",
    "        elif current_value != previous_value:\n",
    "            events_count[current_value-1] += 1\n",
    "    \n",
    "    total = sum(events_count)\n",
    "    \n",
    "    breath_count = events_count[0] # index 0 = breath\n",
    "    stop_count = events_count[2] # index 2 = stop\n",
    "    self_count = events_count[3] # index 3 = self\n",
    "    \n",
    "    breath_event_pct = (breath_count/total)*100\n",
    "    stop_event_pct = (stop_count/total)*100\n",
    "    self_event_pct = (self_count/total)*100\n",
    "    \n",
    "    aggStats = [total, breath_event_pct, stop_event_pct, self_event_pct]\n",
    "    \n",
    "    return aggStats"
   ]
  },
  {
   "cell_type": "code",
   "execution_count": 6,
   "metadata": {
    "collapsed": true
   },
   "outputs": [],
   "source": [
    "# Convert aggregate stats to dataframe and write data\n",
    "def compile_stats():\n",
    "    \n",
    "    agg_stats = aggregate_stats()\n",
    "    \n",
    "    index_list = ['event_total', 'event_pct_breath', 'event_pct_stop', 'event_pct_self']   \n",
    "    \n",
    "    df = pd.DataFrame(agg_stats, index = index_list, columns = [subj]) # convert to pandas df\n",
    "    \n",
    "    df_ts = pd.DataFrame.transpose(df) # transpose to 1 row\n",
    "    df_ts.to_csv('step3_4_3cat_aggregateStats.csv') # writes out data\n",
    "    \n",
    "    return None"
   ]
  },
  {
   "cell_type": "code",
   "execution_count": 8,
   "metadata": {},
   "outputs": [],
   "source": [
    "### 1. Computes aggregate meditation stats in each condition for each subject\n",
    "\n",
    "for subj in subjects:\n",
    "    os.chdir('%s/%s/results/step2/%d/' % (root_dir, analysis, subj))\n",
    "    infile = \"step2_event_clean.txt\"\n",
    "\n",
    "    meditation = read_txt_file(infile)\n",
    "\n",
    "    # write out data\n",
    "    compile_stats()"
   ]
  },
  {
   "cell_type": "code",
   "execution_count": 9,
   "metadata": {
    "collapsed": true
   },
   "outputs": [],
   "source": [
    "## 2. Compile step3 stats across subjects - for SPSS\n",
    "aggregate_stats_compile = []\n",
    "    \n",
    "appended_data = []\n",
    "\n",
    "for subj in subjects:\n",
    "\n",
    "    os.chdir('%s/%s/results/step2/%d/' % (root_dir, analysis, subj))\n",
    "    data = pd.read_csv('step3_4_3cat_aggregateStats.csv', sep=',', index_col=0)\n",
    "\n",
    "    # store DataFrame in list\n",
    "    appended_data.append(data)\n",
    "\n",
    "# Concatenate meditation stats\n",
    "df = pd.concat(appended_data, axis=0) # concat by rows\n",
    "df.insert(0, \"group\", group_step2) # insert group in first column after index\n",
    "\n",
    "# write DataFrame to csv \n",
    "os.chdir('%s/%s/results/step3_compile/' % (root_dir, analysis))\n",
    "df.to_csv('step3_4_3cat_aggregate_stats.csv')"
   ]
  },
  {
   "cell_type": "code",
   "execution_count": null,
   "metadata": {
    "collapsed": true
   },
   "outputs": [],
   "source": []
  }
 ],
 "metadata": {
  "kernelspec": {
   "display_name": "Python 2",
   "language": "python",
   "name": "python2"
  },
  "language_info": {
   "codemirror_mode": {
    "name": "ipython",
    "version": 2
   },
   "file_extension": ".py",
   "mimetype": "text/x-python",
   "name": "python",
   "nbconvert_exporter": "python",
   "pygments_lexer": "ipython2",
   "version": "2.7.10"
  }
 },
 "nbformat": 4,
 "nbformat_minor": 2
}
