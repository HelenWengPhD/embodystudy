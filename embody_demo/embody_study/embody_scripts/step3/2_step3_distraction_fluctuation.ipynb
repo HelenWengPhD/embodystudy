{
 "cells": [
  {
   "cell_type": "markdown",
   "metadata": {},
   "source": [
    "### Distraction From Breath"
   ]
  },
  {
   "cell_type": "code",
   "execution_count": 2,
   "metadata": {
    "collapsed": true
   },
   "outputs": [],
   "source": [
    "import os\n",
    "\n",
    "import numpy as np\n",
    "import pandas as pd\n",
    "import scipy.io as sio"
   ]
  },
  {
   "cell_type": "code",
   "execution_count": null,
   "metadata": {
    "collapsed": true
   },
   "outputs": [],
   "source": [
    "# set root directory\n",
    "root_dir = \"/Path/To/EMBODY_Study/Files\" "
   ]
  },
  {
   "cell_type": "code",
   "execution_count": 3,
   "metadata": {
    "collapsed": true
   },
   "outputs": [],
   "source": [
    "# set analysis name\n",
    "analysis = \"phase1_demo\""
   ]
  },
  {
   "cell_type": "code",
   "execution_count": 4,
   "metadata": {
    "collapsed": true
   },
   "outputs": [],
   "source": [
    "# set subjects\n",
    "subjects = [124]"
   ]
  },
  {
   "cell_type": "code",
   "execution_count": 5,
   "metadata": {
    "collapsed": true
   },
   "outputs": [],
   "source": [
    "def condition_num_to_name(condition):\n",
    "    \n",
    "    \"\"\"Converts numeric condition (input, int) to nominal condition (output, str).\"\"\"\n",
    "    \n",
    "    if condition == 1:\n",
    "        condition_name = \"breath\"\n",
    "    elif condition == 2:\n",
    "        condition_name = \"feet\"\n",
    "    elif condition == 3:\n",
    "        condition_name = \"stop\"\n",
    "    elif condition == 4:\n",
    "        condition_name = \"self\"\n",
    "    elif condition == 5:\n",
    "        condition_name = \"sounds\"\n",
    "    elif condition == 0:\n",
    "        condition_name = \"noise\"\n",
    "\n",
    "    return condition_name"
   ]
  },
  {
   "cell_type": "markdown",
   "metadata": {},
   "source": [
    "--------"
   ]
  },
  {
   "cell_type": "markdown",
   "metadata": {},
   "source": [
    "### Length of time to return to breath\n",
    "#### mean & sd"
   ]
  },
  {
   "cell_type": "code",
   "execution_count": 6,
   "metadata": {
    "collapsed": true
   },
   "outputs": [],
   "source": [
    "def return_to_breath_transition():\n",
    "\n",
    "    breath_has_occured = False\n",
    "    distraction_duration = 0\n",
    "    distraction_duration_list = []\n",
    "    \n",
    "    for index in range(1, len(meditation)):\n",
    "        current_value = meditation[index]\n",
    "        previous_value = meditation[index - 1]\n",
    "                \n",
    "        if current_value == 1:\n",
    "            breath_has_occured = True\n",
    "        \n",
    "        if (current_value != 1) and (breath_has_occured):\n",
    "            \n",
    "            distraction_duration += 1       \n",
    "            \n",
    "        elif (current_value == 1):\n",
    "            \n",
    "            if distraction_duration > 0:\n",
    "                distraction_duration_list.append(distraction_duration)\n",
    "            \n",
    "            distraction_duration = 0\n",
    "            \n",
    "    if distraction_duration > 0:\n",
    "        distraction_duration_list.append(distraction_duration)\n",
    "            \n",
    "    return distraction_duration_list\n"
   ]
  },
  {
   "cell_type": "markdown",
   "metadata": {},
   "source": [
    "-------"
   ]
  },
  {
   "cell_type": "markdown",
   "metadata": {},
   "source": [
    "### Event Switches \n",
    "#### (3x3 matrix: B-B, B-MW, B-S, MW-MW, MW-B, S-B, S-MW, S-S)\n"
   ]
  },
  {
   "cell_type": "code",
   "execution_count": 7,
   "metadata": {
    "collapsed": true
   },
   "outputs": [],
   "source": [
    "# transitions from other states back to the breath (return to the breath)\n",
    "# counting the transition mental states\n",
    "\n",
    "def condition_transitions():\n",
    "    # count transitions from any condition to any conditin\n",
    "    \n",
    "    columns = [\"breath\", \"stop\", \"self\"]\n",
    "    index = [\"breath\", \"stop\", \"self\"]\n",
    "    transition_chart = pd.DataFrame(0, columns=columns, index=index)\n",
    "    \n",
    "    last_full_condition = None\n",
    "    \n",
    "    for index in range(1, len(meditation) - 2):\n",
    "                \n",
    "        prev_1 = meditation[index - 1]\n",
    "        current_value = meditation[index]\n",
    "        next_1 = meditation[index + 1]\n",
    "        next_2 = meditation[index + 2]\n",
    "        \n",
    "        # handling first three values -- if first three values are the same, set last_full_condition\n",
    "        if index == 1 and (prev_1 == current_value) \\\n",
    "        and (current_value == next_1) and (current_value != 0):\n",
    "            last_full_condition = meditation[index]\n",
    "\n",
    "        # while there is no \"last full condition\" continue iterating through data points until we hit 3 in a row\n",
    "        while last_full_condition == None:\n",
    "\n",
    "            index += 1\n",
    "            if (meditation[index] != 0) and \\\n",
    "               (meditation[index] == meditation[index + 1]) and \\\n",
    "               (meditation[index + 1] == meditation[index + 2]):\n",
    "                last_full_condition = meditation[index]\n",
    "        \n",
    "        # check to see if the current value is different from the value before it (indicating a transition)\n",
    "        # then check to see if the current_value is a true \"event\" (it persists at least 3 TRs)\n",
    "        if (current_value != 0) and (prev_1 != current_value) and \\\n",
    "            (current_value == next_1) and (next_1 == next_2):\n",
    "                  \n",
    "            # assign the numeric conditions to their nominal values\n",
    "            # for indexing the transition_chart\n",
    "            current_condition = condition_num_to_name(current_value)\n",
    "            last_condition = condition_num_to_name(last_full_condition)         \n",
    "            transition_chart[last_condition][current_condition] += 1\n",
    "            \n",
    "            last_full_condition = current_value\n",
    "    \n",
    "    # transpose values so column is previous condition and row is current transition\n",
    "    transition_chart = transition_chart.transpose()\n",
    "    \n",
    "    return transition_chart"
   ]
  },
  {
   "cell_type": "markdown",
   "metadata": {},
   "source": [
    "--------"
   ]
  },
  {
   "cell_type": "markdown",
   "metadata": {},
   "source": [
    "### Count Event Switches"
   ]
  },
  {
   "cell_type": "code",
   "execution_count": 8,
   "metadata": {
    "collapsed": true
   },
   "outputs": [],
   "source": [
    "# define all possible condition switches for output\n",
    "output = pd.DataFrame(columns=[\"distract_breath_mean\", \"distract_breath_sd\", \"eventswitch_br_st\", \n",
    "                      \"eventswitch_br_sf\", \"eventswitch_st_br\", \"eventswitch_st_sf\", \n",
    "                      \"eventswitch_sf_br\", \"eventswitch_sf_st\", \"eventswitch_br_br\", \"eventswitch_st_st\",\n",
    "                      \"eventswitch_sf_sf\", \"eventswitch_total\"])\n"
   ]
  },
  {
   "cell_type": "code",
   "execution_count": 9,
   "metadata": {},
   "outputs": [
    {
     "name": "stdout",
     "output_type": "stream",
     "text": [
      "\n",
      "[Subject 124]\n",
      "\n",
      "Mean Duration of Distraction From Breath: 16.600000 seconds\n",
      "Standard Deviation: 17.401970 seconds\n",
      "\n",
      "        breath  stop  self\n",
      "breath       0     6     9\n",
      "stop         8     0     4\n",
      "self         7     6     1\n",
      "\n",
      "Total Number of Event Switches: 41\n",
      "\n",
      "\n",
      "------------------------------------------------------------\n",
      "\n"
     ]
    }
   ],
   "source": [
    "for i in range(len(subjects)):\n",
    "    \n",
    "    print(\"\")\n",
    "    print(\"[Subject %d]\" % subjects[i])\n",
    "    print(\"\")\n",
    "        \n",
    "    # Define meditation data\n",
    "    data = pd.read_csv(\"%s/%s/results/step2/%d/step2_event_clean.csv\" % \n",
    "                       (root_dir, analysis, subjects[i]), header=None)\n",
    "    \n",
    "    meditation = list(data[1])\n",
    "    \n",
    "    # mean duration of distraction from breath\n",
    "    breath_distraction_durations = np.array(return_to_breath_transition())\n",
    "    print(\"Mean Duration of Distraction From Breath: %f seconds\" % (np.mean(breath_distraction_durations)))\n",
    "    output.loc[subjects[i], \"distract_breath_mean\"] = np.mean(breath_distraction_durations)\n",
    "    print(\"Standard Deviation: %f seconds\" % np.std(breath_distraction_durations, ddof=1))\n",
    "    output.loc[subjects[i], \"distract_breath_sd\"] = np.std(breath_distraction_durations, ddof=1)\n",
    "        \n",
    "    \n",
    "    # calculate and show event switches\n",
    "    event_switches_df = condition_transitions()\n",
    "    print(\"\")\n",
    "    print(event_switches_df)\n",
    "    print(\"\")\n",
    "    \n",
    "    # add event switches to output df\n",
    "    output.loc[subjects[i], \"eventswitch_br_st\"] = event_switches_df.loc[\"breath\", \"stop\"]\n",
    "    output.loc[subjects[i], \"eventswitch_br_sf\"] = event_switches_df.loc[\"breath\", \"self\"]\n",
    "    output.loc[subjects[i], \"eventswitch_st_br\"] = event_switches_df.loc[\"stop\", \"breath\"]\n",
    "    output.loc[subjects[i], \"eventswitch_st_sf\"] = event_switches_df.loc[\"stop\", \"self\"]\n",
    "    output.loc[subjects[i], \"eventswitch_sf_br\"] = event_switches_df.loc[\"self\", \"breath\"]\n",
    "    output.loc[subjects[i], \"eventswitch_sf_st\"] = event_switches_df.loc[\"self\", \"stop\"]\n",
    "    output.loc[subjects[i], \"eventswitch_br_br\"] = event_switches_df.loc[\"breath\", \"breath\"]\n",
    "    output.loc[subjects[i], \"eventswitch_st_st\"] = event_switches_df.loc[\"stop\", \"stop\"]\n",
    "    output.loc[subjects[i], \"eventswitch_sf_sf\"] = event_switches_df.loc[\"self\", \"self\"]\n",
    "    \n",
    "    \n",
    "    # total number of event switches\n",
    "    total_event_switches = int(event_switches_df[\"breath\"].sum() +\n",
    "                          event_switches_df[\"stop\"].sum() +\n",
    "                          event_switches_df[\"self\"].sum())\n",
    "    \n",
    "    # add total event switches to output df\n",
    "    output.loc[subjects[i], \"eventswitch_total\"] = total_event_switches\n",
    "\n",
    "    print(\"Total Number of Event Switches: %d\" % total_event_switches)\n",
    "    print(\"\")\n",
    "    print(\"\")\n",
    "    print(\"------------------------------------------------------------\")\n",
    "    print(\"\")"
   ]
  },
  {
   "cell_type": "markdown",
   "metadata": {},
   "source": [
    "#### Rows: current event\n",
    "#### Columns: counting next event"
   ]
  },
  {
   "cell_type": "code",
   "execution_count": 13,
   "metadata": {
    "collapsed": true
   },
   "outputs": [],
   "source": [
    "# write output to file named step3_distraction_fluctuation.csv\n",
    "output.to_csv(\"%s/%s/results/step3_compile/step3_2_distraction_fluctuation.csv\" % (root_dir, analysis))"
   ]
  },
  {
   "cell_type": "code",
   "execution_count": null,
   "metadata": {
    "collapsed": true
   },
   "outputs": [],
   "source": []
  }
 ],
 "metadata": {
  "kernelspec": {
   "display_name": "Python 2",
   "language": "python",
   "name": "python2"
  },
  "language_info": {
   "codemirror_mode": {
    "name": "ipython",
    "version": 2
   },
   "file_extension": ".py",
   "mimetype": "text/x-python",
   "name": "python",
   "nbconvert_exporter": "python",
   "pygments_lexer": "ipython2",
   "version": "2.7.10"
  }
 },
 "nbformat": 4,
 "nbformat_minor": 2
}
